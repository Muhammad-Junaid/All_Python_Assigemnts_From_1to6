{
 "cells": [
  {
   "cell_type": "code",
   "execution_count": 1,
   "metadata": {},
   "outputs": [
    {
     "name": "stdout",
     "output_type": "stream",
     "text": [
      "Twinkle, twinkle little star, \n",
      "\tHow I wonder what you are! \n",
      "\t\tUp above the world so high, \n",
      "\t\tLike a diamond in the sky.\n",
      "Twinkle, twinkle, little star,\n",
      "\tHow I wonder what you are!\n"
     ]
    }
   ],
   "source": [
    "print(\"Twinkle, twinkle little star, \\n\\tHow I wonder what you are! \\n\\t\\tUp above the world so high, \\n\\t\\tLike a diamond in the sky.\\nTwinkle, twinkle, little star,\\n\\tHow I wonder what you are!\")\n"
   ]
  },
  {
   "cell_type": "code",
   "execution_count": 2,
   "metadata": {},
   "outputs": [
    {
     "name": "stdout",
     "output_type": "stream",
     "text": [
      "3.7.4 (default, Aug  9 2019, 18:34:13) [MSC v.1915 64 bit (AMD64)]\n"
     ]
    }
   ],
   "source": [
    "import sys\n",
    "print(sys.version)"
   ]
  },
  {
   "cell_type": "code",
   "execution_count": 3,
   "metadata": {},
   "outputs": [
    {
     "name": "stdout",
     "output_type": "stream",
     "text": [
      "What is current Date and Time?\n",
      "2019-12-21 19:49:58.158497\n"
     ]
    }
   ],
   "source": [
    "import datetime\n",
    "now = datetime.datetime.now()\n",
    "print(\"What is current Date and Time?\")\n",
    "print ( str (now))"
   ]
  },
  {
   "cell_type": "code",
   "execution_count": 4,
   "metadata": {},
   "outputs": [
    {
     "name": "stdout",
     "output_type": "stream",
     "text": [
      "Enter the radius of the circle: 23\n",
      "The area of the circle is: 1661.9025137490005\n"
     ]
    }
   ],
   "source": [
    "from math import pi\n",
    "r= float(input(\"Enter the radius of the circle: \"))\n",
    "radius= pi * r**2\n",
    "print(\"The area of the circle is: \" + str(radius))"
   ]
  },
  {
   "cell_type": "code",
   "execution_count": 5,
   "metadata": {},
   "outputs": [
    {
     "name": "stdout",
     "output_type": "stream",
     "text": [
      "Type your First Name: Muhammad\n",
      "Typr your Last Name: Junaid\n",
      "Junaid Muhammad\n"
     ]
    }
   ],
   "source": [
    "f_name= input(\"Type your First Name: \")\n",
    "L_name= input(\"Typr your Last Name: \")\n",
    "print(L_name + \" \" + f_name)\n"
   ]
  },
  {
   "cell_type": "code",
   "execution_count": 6,
   "metadata": {},
   "outputs": [
    {
     "name": "stdout",
     "output_type": "stream",
     "text": [
      "Enter First Number12\n",
      "Enter Second Number12\n",
      "Sum= 24\n"
     ]
    }
   ],
   "source": [
    "\n",
    "a= int(input(\"Enter First Number\"))\n",
    "b= int(input(\"Enter Second Number\"))\n",
    "sum = a+b\n",
    "print(\"Sum=\", sum)"
   ]
  },
  {
   "cell_type": "code",
   "execution_count": 7,
   "metadata": {},
   "outputs": [],
   "source": [
    "# Assigment 2"
   ]
  },
  {
   "cell_type": "code",
   "execution_count": 8,
   "metadata": {},
   "outputs": [
    {
     "name": "stdout",
     "output_type": "stream",
     "text": [
      "Please Enter the marks obtained in Physic:    96\n",
      "Please Enter the marks obtained in Chemistry: 54\n",
      "Please Enter the marks obtained in Biology:   95\n",
      "Please Enter the marks obtained in English:   56\n",
      "Please Enter the marks obtained in Urdu:      65\n",
      "Total marks Obtained in all subjects are:  366.0\n",
      "Percentage:  73\n",
      "Grade: B\n"
     ]
    }
   ],
   "source": [
    "# Number Obtained in subjects as Inputs from the user\n",
    "S1= float(input(\"Please Enter the marks obtained in Physic:    \"))\n",
    "S2= float(input(\"Please Enter the marks obtained in Chemistry: \"))\n",
    "S3= float(input(\"Please Enter the marks obtained in Biology:   \"))\n",
    "S4= float(input(\"Please Enter the marks obtained in English:   \"))\n",
    "S5= float(input(\"Please Enter the marks obtained in Urdu:      \"))\n",
    "total_marks_Obtained=T1= (S1 + S2 + S3 + S4 + S5)\n",
    "total_marks=T2=500\n",
    "print(\"Total marks Obtained in all subjects are: \", T1)\n",
    "Percentage=P= int((T1/T2)* 100)\n",
    "print(\"Percentage: \", P)\n",
    "if P>=90:\n",
    "    print(\"Grade: A1\")\n",
    "elif P>=80 and P<90:\n",
    "    print(\"Grade: A\")\n",
    "elif P>=70 and P<80:\n",
    "    print(\"Grade: B\")\n",
    "elif P>=60 and P<70:\n",
    "    print(\"Grade: C\")\n",
    "elif P>=50 and P<60:\n",
    "    print(\"Grade: D\")    \n",
    "else: \n",
    "    print (\"Fail\")"
   ]
  },
  {
   "cell_type": "code",
   "execution_count": 9,
   "metadata": {},
   "outputs": [
    {
     "name": "stdout",
     "output_type": "stream",
     "text": [
      "Enter a number: 45\n",
      "1\n",
      "Given number is Odd\n"
     ]
    }
   ],
   "source": [
    "num_1= int(input('Enter a number: '))\n",
    "trick= num_1 % 2\n",
    "print (trick)\n",
    "if trick<= 0:\n",
    "    print(\"Given number is Even\")  \n",
    "else:\n",
    "    print(\"Given number is Odd\")\n",
    "    "
   ]
  },
  {
   "cell_type": "code",
   "execution_count": 10,
   "metadata": {},
   "outputs": [
    {
     "name": "stdout",
     "output_type": "stream",
     "text": [
      "4\n"
     ]
    }
   ],
   "source": [
    "\n",
    "List = [\"Apple\", \"Mango\", \"Banana\", \"Kiwi\"]\n",
    "length_List= len(List)\n",
    "print(length_List)"
   ]
  },
  {
   "cell_type": "code",
   "execution_count": 12,
   "metadata": {},
   "outputs": [
    {
     "ename": "TypeError",
     "evalue": "'int' object is not callable",
     "output_type": "error",
     "traceback": [
      "\u001b[1;31m---------------------------------------------------------------------------\u001b[0m",
      "\u001b[1;31mTypeError\u001b[0m                                 Traceback (most recent call last)",
      "\u001b[1;32m<ipython-input-12-fa09cd25f16b>\u001b[0m in \u001b[0;36m<module>\u001b[1;34m\u001b[0m\n\u001b[0;32m      1\u001b[0m \u001b[0mList\u001b[0m\u001b[1;33m=\u001b[0m \u001b[1;33m[\u001b[0m\u001b[1;36m1\u001b[0m\u001b[1;33m,\u001b[0m \u001b[1;36m2\u001b[0m\u001b[1;33m,\u001b[0m\u001b[1;36m4\u001b[0m\u001b[1;33m,\u001b[0m\u001b[1;36m5\u001b[0m\u001b[1;33m,\u001b[0m\u001b[1;36m6\u001b[0m\u001b[1;33m,\u001b[0m\u001b[1;36m7\u001b[0m\u001b[1;33m]\u001b[0m\u001b[1;33m\u001b[0m\u001b[1;33m\u001b[0m\u001b[0m\n\u001b[1;32m----> 2\u001b[1;33m \u001b[0mSum_List\u001b[0m\u001b[1;33m=\u001b[0m \u001b[0msum\u001b[0m\u001b[1;33m(\u001b[0m\u001b[0mList\u001b[0m\u001b[1;33m)\u001b[0m\u001b[1;33m\u001b[0m\u001b[1;33m\u001b[0m\u001b[0m\n\u001b[0m\u001b[0;32m      3\u001b[0m \u001b[0mprint\u001b[0m\u001b[1;33m(\u001b[0m\u001b[0mSum_List\u001b[0m\u001b[1;33m)\u001b[0m\u001b[1;33m\u001b[0m\u001b[1;33m\u001b[0m\u001b[0m\n",
      "\u001b[1;31mTypeError\u001b[0m: 'int' object is not callable"
     ]
    }
   ],
   "source": [
    "List= [1, 2,4,5,6,7]\n",
    "Sum_List= sum(List)\n",
    "print(Sum_List)"
   ]
  },
  {
   "cell_type": "code",
   "execution_count": 13,
   "metadata": {},
   "outputs": [
    {
     "ename": "TypeError",
     "evalue": "'int' object is not callable",
     "output_type": "error",
     "traceback": [
      "\u001b[1;31m---------------------------------------------------------------------------\u001b[0m",
      "\u001b[1;31mTypeError\u001b[0m                                 Traceback (most recent call last)",
      "\u001b[1;32m<ipython-input-13-fa09cd25f16b>\u001b[0m in \u001b[0;36m<module>\u001b[1;34m\u001b[0m\n\u001b[0;32m      1\u001b[0m \u001b[0mList\u001b[0m\u001b[1;33m=\u001b[0m \u001b[1;33m[\u001b[0m\u001b[1;36m1\u001b[0m\u001b[1;33m,\u001b[0m \u001b[1;36m2\u001b[0m\u001b[1;33m,\u001b[0m\u001b[1;36m4\u001b[0m\u001b[1;33m,\u001b[0m\u001b[1;36m5\u001b[0m\u001b[1;33m,\u001b[0m\u001b[1;36m6\u001b[0m\u001b[1;33m,\u001b[0m\u001b[1;36m7\u001b[0m\u001b[1;33m]\u001b[0m\u001b[1;33m\u001b[0m\u001b[1;33m\u001b[0m\u001b[0m\n\u001b[1;32m----> 2\u001b[1;33m \u001b[0mSum_List\u001b[0m\u001b[1;33m=\u001b[0m \u001b[0msum\u001b[0m\u001b[1;33m(\u001b[0m\u001b[0mList\u001b[0m\u001b[1;33m)\u001b[0m\u001b[1;33m\u001b[0m\u001b[1;33m\u001b[0m\u001b[0m\n\u001b[0m\u001b[0;32m      3\u001b[0m \u001b[0mprint\u001b[0m\u001b[1;33m(\u001b[0m\u001b[0mSum_List\u001b[0m\u001b[1;33m)\u001b[0m\u001b[1;33m\u001b[0m\u001b[1;33m\u001b[0m\u001b[0m\n",
      "\u001b[1;31mTypeError\u001b[0m: 'int' object is not callable"
     ]
    }
   ],
   "source": [
    "List= [1, 2,4,5,6,7]\n",
    "Sum_List= sum(List)\n",
    "print(Sum_List)"
   ]
  },
  {
   "cell_type": "code",
   "execution_count": 14,
   "metadata": {},
   "outputs": [
    {
     "name": "stdout",
     "output_type": "stream",
     "text": [
      "1\n",
      "1\n",
      "2\n",
      "3\n"
     ]
    }
   ],
   "source": [
    "List = [1, 1, 2, 3, 5, 8, 13, 21, 34, 55, 89]\n",
    "for i in List:\n",
    "    if i<5:\n",
    "        print(i)"
   ]
  },
  {
   "cell_type": "code",
   "execution_count": 15,
   "metadata": {},
   "outputs": [],
   "source": [
    "#Assigment 3"
   ]
  },
  {
   "cell_type": "code",
   "execution_count": 16,
   "metadata": {},
   "outputs": [
    {
     "name": "stdout",
     "output_type": "stream",
     "text": [
      "Enter the first operand= 5\n",
      "Enter the second operand= \n"
     ]
    },
    {
     "ename": "ValueError",
     "evalue": "invalid literal for int() with base 10: ''",
     "output_type": "error",
     "traceback": [
      "\u001b[1;31m---------------------------------------------------------------------------\u001b[0m",
      "\u001b[1;31mValueError\u001b[0m                                Traceback (most recent call last)",
      "\u001b[1;32m<ipython-input-16-8924bb5c0e09>\u001b[0m in \u001b[0;36m<module>\u001b[1;34m\u001b[0m\n\u001b[0;32m      1\u001b[0m \u001b[0mVal1\u001b[0m\u001b[1;33m=\u001b[0m \u001b[0mint\u001b[0m\u001b[1;33m(\u001b[0m\u001b[0minput\u001b[0m\u001b[1;33m(\u001b[0m\u001b[1;34m\"Enter the first operand= \"\u001b[0m\u001b[1;33m)\u001b[0m\u001b[1;33m)\u001b[0m\u001b[1;33m\u001b[0m\u001b[1;33m\u001b[0m\u001b[0m\n\u001b[1;32m----> 2\u001b[1;33m \u001b[0mVal2\u001b[0m\u001b[1;33m=\u001b[0m \u001b[0mint\u001b[0m\u001b[1;33m(\u001b[0m\u001b[0minput\u001b[0m\u001b[1;33m(\u001b[0m\u001b[1;34m\"Enter the second operand= \"\u001b[0m\u001b[1;33m)\u001b[0m\u001b[1;33m)\u001b[0m\u001b[1;33m\u001b[0m\u001b[1;33m\u001b[0m\u001b[0m\n\u001b[0m\u001b[0;32m      3\u001b[0m \u001b[0mOpr\u001b[0m\u001b[1;33m=\u001b[0m \u001b[0minput\u001b[0m\u001b[1;33m(\u001b[0m\u001b[1;34m\"Enter the desired operator= \"\u001b[0m\u001b[1;33m)\u001b[0m\u001b[1;33m\u001b[0m\u001b[1;33m\u001b[0m\u001b[0m\n\u001b[0;32m      4\u001b[0m \u001b[1;33m\u001b[0m\u001b[0m\n\u001b[0;32m      5\u001b[0m \u001b[1;32mif\u001b[0m \u001b[0mOpr\u001b[0m \u001b[1;33m==\u001b[0m \u001b[1;34m\"+\"\u001b[0m \u001b[1;33m:\u001b[0m\u001b[1;33m\u001b[0m\u001b[1;33m\u001b[0m\u001b[0m\n",
      "\u001b[1;31mValueError\u001b[0m: invalid literal for int() with base 10: ''"
     ]
    }
   ],
   "source": [
    "Val1= int(input(\"Enter the first operand= \"))\n",
    "Val2= int(input(\"Enter the second operand= \"))\n",
    "Opr= input(\"Enter the desired operator= \")\n",
    "\n",
    "if Opr == \"+\" :\n",
    "    Val3 = (Val1 + Val2)\n",
    "    print(\"Answer of your operation is\", Val3)\n",
    "\n",
    "elif Opr == \"-\":\n",
    "    Val3 = Val1 - Val2\n",
    "    print(\"Answer of your operation is\", Val3)\n",
    "    \n",
    "elif Opr == \"*\" :\n",
    "    Val3 = Val1 * Val2\n",
    "    print(\"Answer of your operation is\", Val3)\n",
    "    \n",
    "elif Opr == \"/\" :\n",
    "    Val3 = Val1 / Val2\n",
    "    print(\"Answer of your operation is\", Val3)\n",
    "    \n",
    "else:\n",
    "    print(\"Enter the correct operator\")"
   ]
  },
  {
   "cell_type": "code",
   "execution_count": 17,
   "metadata": {},
   "outputs": [
    {
     "name": "stdout",
     "output_type": "stream",
     "text": [
      "Enter the first operand= 5\n",
      "Enter the second operand= 4\n",
      "Enter the desired operator= 2\n",
      "Enter the correct operator\n"
     ]
    }
   ],
   "source": [
    "Val1= int(input(\"Enter the first operand= \"))\n",
    "Val2= int(input(\"Enter the second operand= \"))\n",
    "Opr= input(\"Enter the desired operator= \")\n",
    "\n",
    "if Opr == \"+\" :\n",
    "    Val3 = (Val1 + Val2)\n",
    "    print(\"Answer of your operation is\", Val3)\n",
    "\n",
    "elif Opr == \"-\":\n",
    "    Val3 = Val1 - Val2\n",
    "    print(\"Answer of your operation is\", Val3)\n",
    "    \n",
    "elif Opr == \"*\" :\n",
    "    Val3 = Val1 * Val2\n",
    "    print(\"Answer of your operation is\", Val3)\n",
    "    \n",
    "elif Opr == \"/\" :\n",
    "    Val3 = Val1 / Val2\n",
    "    print(\"Answer of your operation is\", Val3)\n",
    "    \n",
    "else:\n",
    "    print(\"Enter the correct operator\")"
   ]
  },
  {
   "cell_type": "code",
   "execution_count": 18,
   "metadata": {},
   "outputs": [
    {
     "name": "stdout",
     "output_type": "stream",
     "text": [
      "['456', '678', '890']\n",
      "['456', '678', '890']\n",
      "['456', '678', '890']\n",
      "['456', '678', '890']\n",
      "['456', '678', '890']\n",
      "['456', '678', '890']\n"
     ]
    }
   ],
   "source": [
    "mylist=['Anwar','456','Sarwar','678','Munawar','890']\n",
    "for item in mylist:\n",
    "    mynewlist =  [a for a in mylist if a.isdigit()]\n",
    "    print(mynewlist)"
   ]
  },
  {
   "cell_type": "code",
   "execution_count": 19,
   "metadata": {},
   "outputs": [
    {
     "name": "stdout",
     "output_type": "stream",
     "text": [
      "{'Student_ID': '0001', 'Full Name': 'Anwar Khan', 'Father Name': 'Sarwar Khan', 'Department': 'Biomedical Engineering'}\n"
     ]
    }
   ],
   "source": [
    "Student_Detail = {\"Student_ID\": \"0001\",\n",
    "            \"Full Name\": \"Anwar Khan\",\n",
    "            \"Father Name\": \"Sarwar Khan\"}\n",
    "Student_Detail[\"Department\"] = \"Biomedical Engineering\"\n",
    "print(Student_Detail)\n"
   ]
  },
  {
   "cell_type": "code",
   "execution_count": 20,
   "metadata": {},
   "outputs": [
    {
     "ename": "TypeError",
     "evalue": "'int' object is not callable",
     "output_type": "error",
     "traceback": [
      "\u001b[1;31m---------------------------------------------------------------------------\u001b[0m",
      "\u001b[1;31mTypeError\u001b[0m                                 Traceback (most recent call last)",
      "\u001b[1;32m<ipython-input-20-d4fed8f0b028>\u001b[0m in \u001b[0;36m<module>\u001b[1;34m\u001b[0m\n\u001b[0;32m      1\u001b[0m \u001b[0mDict_Data\u001b[0m \u001b[1;33m=\u001b[0m \u001b[1;33m{\u001b[0m\u001b[1;34m'Val1'\u001b[0m\u001b[1;33m:\u001b[0m\u001b[1;36m10\u001b[0m\u001b[1;33m,\u001b[0m\u001b[1;34m'Val2'\u001b[0m\u001b[1;33m:\u001b[0m\u001b[1;36m20\u001b[0m\u001b[1;33m,\u001b[0m\u001b[1;34m'Val3'\u001b[0m\u001b[1;33m:\u001b[0m\u001b[1;36m30\u001b[0m\u001b[1;33m}\u001b[0m\u001b[1;33m\u001b[0m\u001b[1;33m\u001b[0m\u001b[0m\n\u001b[1;32m----> 2\u001b[1;33m \u001b[0mprint\u001b[0m\u001b[1;33m(\u001b[0m\u001b[0msum\u001b[0m\u001b[1;33m(\u001b[0m\u001b[0mDict_Data\u001b[0m\u001b[1;33m.\u001b[0m\u001b[0mvalues\u001b[0m\u001b[1;33m(\u001b[0m\u001b[1;33m)\u001b[0m\u001b[1;33m)\u001b[0m\u001b[1;33m)\u001b[0m\u001b[1;33m\u001b[0m\u001b[1;33m\u001b[0m\u001b[0m\n\u001b[0m",
      "\u001b[1;31mTypeError\u001b[0m: 'int' object is not callable"
     ]
    }
   ],
   "source": [
    "Dict_Data = {'Val1':10,'Val2':20,'Val3':30}\n",
    "print(sum(Dict_Data.values()))"
   ]
  },
  {
   "cell_type": "code",
   "execution_count": 21,
   "metadata": {},
   "outputs": [
    {
     "name": "stdout",
     "output_type": "stream",
     "text": [
      "[1, 3, 5]\n"
     ]
    }
   ],
   "source": [
    "Data = [ 1, 3, 5, 7, 9, 1, 3, 2, 4, 5, 6, 8]\n",
    "Dup_val = []\n",
    "uniq_val = {}\n",
    "for x in Data:\n",
    "    if x not in uniq_val:\n",
    "        uniq_val[x] = 1\n",
    "    else:\n",
    "        if uniq_val[x] == 1:\n",
    "            Dup_val.append(x)\n",
    "        uniq_val[x] += 1\n",
    "print(Dup_val)"
   ]
  },
  {
   "cell_type": "code",
   "execution_count": 23,
   "metadata": {},
   "outputs": [
    {
     "name": "stdout",
     "output_type": "stream",
     "text": [
      "Enter the key you want to check: 15\n"
     ]
    },
    {
     "ename": "NameError",
     "evalue": "name 'checkKey' is not defined",
     "output_type": "error",
     "traceback": [
      "\u001b[1;31m---------------------------------------------------------------------------\u001b[0m",
      "\u001b[1;31mNameError\u001b[0m                                 Traceback (most recent call last)",
      "\u001b[1;32m<ipython-input-23-4989be03b053>\u001b[0m in \u001b[0;36m<module>\u001b[1;34m\u001b[0m\n\u001b[0;32m      1\u001b[0m \u001b[0mdict\u001b[0m \u001b[1;33m=\u001b[0m \u001b[1;33m{\u001b[0m\u001b[1;36m1\u001b[0m\u001b[1;33m:\u001b[0m \u001b[1;36m5\u001b[0m\u001b[1;33m,\u001b[0m \u001b[1;36m2\u001b[0m\u001b[1;33m:\u001b[0m \u001b[1;36m10\u001b[0m\u001b[1;33m,\u001b[0m \u001b[1;36m3\u001b[0m\u001b[1;33m:\u001b[0m \u001b[1;36m15\u001b[0m\u001b[1;33m,\u001b[0m \u001b[1;36m4\u001b[0m\u001b[1;33m:\u001b[0m \u001b[1;36m20\u001b[0m\u001b[1;33m,\u001b[0m \u001b[1;36m5\u001b[0m\u001b[1;33m:\u001b[0m \u001b[1;36m25\u001b[0m\u001b[1;33m,\u001b[0m \u001b[1;36m6\u001b[0m\u001b[1;33m:\u001b[0m \u001b[1;36m30\u001b[0m\u001b[1;33m}\u001b[0m\u001b[1;33m\u001b[0m\u001b[1;33m\u001b[0m\u001b[0m\n\u001b[0;32m      2\u001b[0m \u001b[0mkey\u001b[0m \u001b[1;33m=\u001b[0m \u001b[0mint\u001b[0m\u001b[1;33m(\u001b[0m\u001b[0minput\u001b[0m\u001b[1;33m(\u001b[0m\u001b[1;34m\"Enter the key you want to check: \"\u001b[0m\u001b[1;33m)\u001b[0m\u001b[1;33m)\u001b[0m\u001b[1;33m\u001b[0m\u001b[1;33m\u001b[0m\u001b[0m\n\u001b[1;32m----> 3\u001b[1;33m \u001b[0mcheckKey\u001b[0m\u001b[1;33m(\u001b[0m\u001b[0mdict\u001b[0m\u001b[1;33m,\u001b[0m \u001b[0mkey\u001b[0m\u001b[1;33m)\u001b[0m\u001b[1;33m\u001b[0m\u001b[1;33m\u001b[0m\u001b[0m\n\u001b[0m\u001b[0;32m      4\u001b[0m \u001b[1;32mdef\u001b[0m \u001b[0mcheckKey\u001b[0m\u001b[1;33m(\u001b[0m\u001b[0mdict\u001b[0m\u001b[1;33m,\u001b[0m \u001b[0mkey\u001b[0m\u001b[1;33m)\u001b[0m\u001b[1;33m:\u001b[0m\u001b[1;33m\u001b[0m\u001b[1;33m\u001b[0m\u001b[0m\n\u001b[0;32m      5\u001b[0m     \u001b[1;32mif\u001b[0m \u001b[0mkey\u001b[0m \u001b[1;32min\u001b[0m \u001b[0mdict\u001b[0m\u001b[1;33m.\u001b[0m\u001b[0mkeys\u001b[0m\u001b[1;33m(\u001b[0m\u001b[1;33m)\u001b[0m\u001b[1;33m:\u001b[0m\u001b[1;33m\u001b[0m\u001b[1;33m\u001b[0m\u001b[0m\n",
      "\u001b[1;31mNameError\u001b[0m: name 'checkKey' is not defined"
     ]
    }
   ],
   "source": [
    "dict = {1: 5, 2: 10, 3: 15, 4: 20, 5: 25, 6: 30}\n",
    "key = int(input(\"Enter the key you want to check: \"))\n",
    "checkKey(dict, key)\n",
    "def checkKey(dict, key):  \n",
    "    if key in dict.keys():\n",
    "        print(\"Present\")  \n",
    "    else: \n",
    "        print(\"Not present\")"
   ]
  },
  {
   "cell_type": "code",
   "execution_count": null,
   "metadata": {},
   "outputs": [],
   "source": [
    "#Assigment 4"
   ]
  },
  {
   "cell_type": "code",
   "execution_count": 24,
   "metadata": {},
   "outputs": [
    {
     "name": "stdout",
     "output_type": "stream",
     "text": [
      "{'first_name': 'Meer Anwar', 'last_name': 'Khan', 'age': '24', 'city': 'Karachi'}\n",
      "{'first_name': 'Meer Anwar', 'last_name': 'Khan', 'age': '24', 'city': 'Karachi', 'Qualification': 'Higher Academic Level '}\n",
      "{'first_name': 'Meer Anwar', 'last_name': 'Khan', 'age': '24', 'city': 'Karachi'}\n"
     ]
    }
   ],
   "source": [
    "\n",
    "Dict= {\n",
    "        \"first_name\" : \"Meer Anwar\",\n",
    "        \"last_name\"  : \"Khan\",\n",
    "        \"age\"        : \"24\",\n",
    "        \"city\"       : \"Karachi\"\n",
    "    }\n",
    "print (Dict)\n",
    "Dict[\"Qualification\"] = \"Higher Academic Level \"\n",
    "print (Dict)\n",
    "del Dict ['Qualification']\n",
    "print (Dict)"
   ]
  },
  {
   "cell_type": "code",
   "execution_count": 25,
   "metadata": {},
   "outputs": [
    {
     "name": "stdout",
     "output_type": "stream",
     "text": [
      "{'Karachi': {'Country': 'Pakistan', 'Population': '3 Million', 'Fact': 'Karachi contributes to 70% of income tax revenue and 62% of sales tax revenue.'}, 'Gwangju': {'Country': 'South Korea', 'Population': '1.5 Million', 'Fact': 'It has a vibrant year-round art scene.'}, 'Munich': {'Country': 'Germany', 'Population': '1.45 Million', 'Fact': 'It harbours the oldest cinema in the world.'}}\n"
     ]
    }
   ],
   "source": [
    "cities= {\n",
    "   \n",
    "    \"Karachi\":\n",
    "    {\n",
    "        \"Country\"    : \"Pakistan\",\n",
    "        \"Population\" : \"3 Million\",\n",
    "        \"Fact\"       : \"Karachi contributes to 70% of income tax revenue and 62% of sales tax revenue.\"\n",
    "    },\n",
    "    \"Gwangju\":\n",
    "    {\n",
    "        \"Country\"    : \"South Korea\",\n",
    "        \"Population\" : \"1.5 Million\",\n",
    "        \"Fact\"       : \"It has a vibrant year-round art scene.\"\n",
    "    },\n",
    "    \"Munich\":\n",
    "    {\n",
    "        \"Country\"    : \"Germany\",\n",
    "        \"Population\" : \"1.45 Million\",\n",
    "        \"Fact\"       : \"It harbours the oldest cinema in the world.\"\n",
    "    },\n",
    "}\n",
    "print(cities)"
   ]
  },
  {
   "cell_type": "code",
   "execution_count": 26,
   "metadata": {},
   "outputs": [
    {
     "name": "stdout",
     "output_type": "stream",
     "text": [
      "What is your name? Junaid\n",
      "Junaid\n",
      "What is your age? 22\n",
      "22\n",
      "Ticket is $15\n"
     ]
    }
   ],
   "source": [
    "\n",
    "user_name= input(\"What is your name? \")\n",
    "print (user_name)\n",
    "user_age=int(input(\"What is your age? \"))\n",
    "print(user_age)\n",
    "if user_age<3:\n",
    "        print(\"Ticket is free\")\n",
    "elif user_age<=12:\n",
    "        print (\"Ticket is $10\")\n",
    "else:\n",
    "        print(\"Ticket is $15\")"
   ]
  },
  {
   "cell_type": "code",
   "execution_count": 27,
   "metadata": {},
   "outputs": [
    {
     "name": "stdout",
     "output_type": "stream",
     "text": [
      "One of my favorite books is Alice in Wonderful.\n"
     ]
    }
   ],
   "source": [
    "def favorite_book(title):\n",
    "    title= \"Alice in Wonderland\"\n",
    "    print(\"One of my favorite books is Alice in Wonderful.\")\n",
    "    \n",
    "favorite_book(\"title\")"
   ]
  },
  {
   "cell_type": "code",
   "execution_count": 28,
   "metadata": {},
   "outputs": [
    {
     "name": "stdout",
     "output_type": "stream",
     "text": [
      "Enter between 1 & 30 to guess the correct number 25\n",
      "Hint: Guess is too high\n",
      "Enter between 1 & 30 to guess the correct number 25\n",
      "Hint: Guess is too high\n",
      "Enter between 1 & 30 to guess the correct number 25\n",
      "Hint: Guess is too high\n",
      "Bad Luck. Try Next Time\n",
      "Correct Number is 16\n"
     ]
    }
   ],
   "source": [
    "import random\n",
    "ran_num= random.randrange(1,30)\n",
    "flag = False\n",
    "\n",
    "for i in range (1,4):\n",
    "    user_num= int(input(\"Enter between 1 & 30 to guess the correct number \"))\n",
    "    if user_num==ran_num:\n",
    "        print(\"You have guess the correct number\")\n",
    "        Flag= True\n",
    "        break\n",
    "    elif user_num< ran_num:\n",
    "        print(\"Wrong guess. Try Again\")\n",
    "        print(\"Hint: Guess is too low\")\n",
    "    else:\n",
    "        print(\"Hint: Guess is too high\")\n",
    "if flag:\n",
    "    print(\"Congratulation..! You made a correct guess\")\n",
    "else:\n",
    "    print(\"Bad Luck. Try Next Time\")\n",
    "    print(\"Correct Number is\", ran_num)\n"
   ]
  },
  {
   "cell_type": "code",
   "execution_count": 29,
   "metadata": {},
   "outputs": [
    {
     "name": "stdout",
     "output_type": "stream",
     "text": [
      "Factorial of entered entity is:  5040\n"
     ]
    }
   ],
   "source": [
    "inp =int()\n",
    "def factorial (inp):\n",
    "    num_1= 1\n",
    "\n",
    "    if inp<0:\n",
    "        print(\"Factorial of negative entities don't exist\")\n",
    "    elif inp==0:\n",
    "        print (\"Factorial of entered entity is: 1\" )\n",
    "    else:\n",
    "        for i in range(1,inp+1):\n",
    "            num_1= num_1*i\n",
    "        print(\"Factorial of entered entity is: \", num_1)\n",
    "    \n",
    "factorial(7)"
   ]
  },
  {
   "cell_type": "code",
   "execution_count": 30,
   "metadata": {},
   "outputs": [
    {
     "name": "stdout",
     "output_type": "stream",
     "text": [
      "Enter the String: juni\n",
      "Number of Upper case letters are: 0\n",
      "Number of Lower case letters are: 4\n"
     ]
    }
   ],
   "source": [
    "inp=str(input(\"Enter the String: \"))\n",
    "def case_find(inp):\n",
    "    Upper_case=0\n",
    "    Lower_case=0\n",
    "    for c in inp:\n",
    "        if (c.isupper()):\n",
    "            Upper_case+=1\n",
    "        elif (c.islower()):\n",
    "            Lower_case+=1\n",
    "    print(\"Number of Upper case letters are:\", Upper_case)\n",
    "    print(\"Number of Lower case letters are:\", Lower_case)\n",
    "\n",
    "case_find(inp)\n"
   ]
  },
  {
   "cell_type": "code",
   "execution_count": 31,
   "metadata": {},
   "outputs": [
    {
     "name": "stdout",
     "output_type": "stream",
     "text": [
      "2\n",
      "4\n",
      "6\n"
     ]
    }
   ],
   "source": [
    "# Q.3 Write a Python function to print the even numbers from a given list.\n",
    "\n",
    "def even_checker(list1):\n",
    "    for i in list1:\n",
    "        if i%2 == 0:\n",
    "            print(i)\n",
    "list1= [1, 2, 3, 4, 5, 6]  \n",
    "even_checker(list1)"
   ]
  },
  {
   "cell_type": "code",
   "execution_count": 32,
   "metadata": {},
   "outputs": [
    {
     "name": "stdout",
     "output_type": "stream",
     "text": [
      "Enter any string: ali\n",
      "ali\n",
      "This is not a palindrom\n"
     ]
    }
   ],
   "source": [
    "#Question:4 Write a Python function that checks whether a passed string is palindrome or not. Note: A palindrome\n",
    "#is a word, phrase, or sequence that reads the same backward as forward, e.g., madam\n",
    "\n",
    "inp_str=input(\"Enter any string: \")\n",
    "def palin_check(inp_str):\n",
    "    case_conv=inp_str.lower()\n",
    "    print(case_conv)\n",
    "    rev_str=reversed(case_conv)\n",
    "    if list(case_conv) == list(rev_str):\n",
    "        print(\"This is a palindrom\")\n",
    "    else:\n",
    "        print(\"This is not a palindrom\")\n",
    "palin_check(inp_str)"
   ]
  },
  {
   "cell_type": "code",
   "execution_count": 33,
   "metadata": {},
   "outputs": [
    {
     "name": "stdout",
     "output_type": "stream",
     "text": [
      "Enter a number to check whether it is prime or not: 5\n",
      "5 is a prime number.\n"
     ]
    }
   ],
   "source": [
    "#Write a Python function that takes a number as a parameter and check the number is prime or not. \n",
    "\n",
    "def prime_check(num):  \n",
    "    if num > 1:\n",
    "        for i in range(2, num):     \n",
    "            if (num % i) == 0: \n",
    "                print(num, \"is not a prime number.\")\n",
    "                break\n",
    "            else: \n",
    "                print(num, \"is a prime number.\")\n",
    "                break\n",
    "    else: \n",
    "        print(num, \"is not a prime number.\")\n",
    "\n",
    "num = int(input(\"Enter a number to check whether it is prime or not: \"))\n",
    "prime_check(num)"
   ]
  },
  {
   "cell_type": "code",
   "execution_count": 34,
   "metadata": {},
   "outputs": [
    {
     "name": "stdout",
     "output_type": "stream",
     "text": [
      "Washing Power\n",
      "Facewash\n",
      "Toothbrush\n"
     ]
    }
   ],
   "source": [
    "\n",
    "#Suppose a customer is shopping in a market and you need to print all the items which user bought from market.\n",
    "#Write a function which accepts the multiple arguments of user shopping list and print all the items which user\n",
    "#bought from market. (Hint: Arbitrary Argument concept can make this task ease)\n",
    "\n",
    "def market(*para):\n",
    "    for i in para:\n",
    "        print(i)\n",
    "market(\"Washing Power\",\"Facewash\", \"Toothbrush\")\n"
   ]
  },
  {
   "cell_type": "code",
   "execution_count": 35,
   "metadata": {},
   "outputs": [],
   "source": [
    "#Assigment 6"
   ]
  },
  {
   "cell_type": "code",
   "execution_count": null,
   "metadata": {},
   "outputs": [],
   "source": [
    "#Question 1:Define Object Oriented Programming Language?\n",
    "\n",
    "Object-oriented Programming, or OOP for short, is a programming paradigm which provides a means of structuring programs so that properties and behaviors are bundled into individual objects.\n",
    "\n",
    "For instance, an object could represent a person with a name property, age, address, etc., with behaviors like walking, talking, breathing, and running. Or an email with properties like recipient list, subject, body, etc., and behaviors like adding attachments and sending.\n",
    "\n",
    "Put another way, object-oriented programming is an approach for modeling concrete, real-world things like cars as well as relations between things like companies and employees, students and teachers, etc. OOP models real-world entities as software objects, which have some data associated with them and can perform certain functions.\n",
    "\n",
    "#Question 2: List down the Benefits of OOP?\n",
    "\n",
    "1. Modularity for easier troubleshooting:\n",
    "    It provides a clear modular structure for programs which makes it good for defining abstract datatypes in which implementation details are hidden\n",
    "2. Reuse of code through inheritance:\n",
    "    Objects can also be reused within an across applications. The reuse of software also lowers the cost of development. \n",
    "    More effort is put into the object-oriented analysis and design, which lowers the overall cost of development.\n",
    "3. Flexibility through polymorphism\n",
    "4. It provides a good framework for code libraries where the supplied software components can be easily adapted and modified by the programmer. \n",
    "   This is particularly useful for developing graphical user interfaces.\n",
    "5. Object-oriented programming is often the most natural and pragmatic approach, once you get the hang of it. OOP languages allows to break down software into bite-sized problems that can be solved as — one object at a time.\n",
    "  \n",
    "#Question 3: Differentiate between function and method?\n",
    "\n",
    "1. Function:\n",
    "    A function is a block of code to carry out a specific task, will contain its own scope and is called by name.\n",
    "    All functions may contain zero(no) arguments or more than one arguments. \n",
    "    On exit, a function can or can not return one or more values.\n",
    "2. Method:\n",
    "    The method is a function that is associated with an object. \n",
    "    In Python, a method is not unique to class instances. Any object type can have methods.\n",
    "\n",
    "#Question 4: Define the following terms:\n",
    "\n",
    "1. Object:\n",
    "    The object is an entity that has state and behavior. It may be any real-world object like the mouse, keyboard, chair, table, pen, etc.\n",
    "    Everything in Python is an object, and almost everything has attributes and methods. \n",
    "    All functions have a built-in attribute __doc__, which returns the doc string defined in the function source code.\n",
    "    \n",
    "2. Class:\n",
    "    The class can be defined as a collection of objects. It is a logical entity that has some specific attributes and methods. \n",
    "    For example: if an employee is a class then it should contain an attribute and method, i.e. an email id, name, age, salary, etc.\n",
    "\n",
    "3. Attribute:\n",
    "     Attributes are the characteristics of the class that help to distinguish it from other classes.\n",
    "        \n",
    "4. Behavior:\n",
    "    Behaviors are the tasks that an object performs.\n",
    "In [5]:\n",
    "#Question 5:Write a code in python in which create a class named it Car which have 5 attributes such like (model, color and name etc.) and 3\n",
    "            #methods. And create 5 object instance from that class.\n",
    "class Car():\n",
    "\n",
    "    # instance attributes\n",
    "    def __init__(self, Brand, Model, Color, Max_Speed, Fuel_type):\n",
    "        self.Brand = 'Kia'\n",
    "        self.Model = 'Sportage'\n",
    "        self.Color= 'Red'\n",
    "        self.Max_Speed=157\n",
    "        self.Fuel_type= 'Gasoline'\n",
    "        \n",
    "    # instance method\n",
    "    def Sports_Car(self):\n",
    "        return \"{} is best sports car.\".format(self.Model)\n",
    "\n",
    "    def speed(self):\n",
    "        return \"{} is the maximum speed of Sportage.\".format(self.Max_Speed)\n",
    "    \n",
    "    def fuel(self, fuel):\n",
    "        return \"{} is derived from {}\".format(self.Fuel_type, fuel)\n",
    "\n",
    "test= Car(\"test\",10,15,20,25)\n",
    "# call our instance methods\n",
    "print(test.Sports_Car())\n",
    "print(test.speed()) \n",
    "print(test.fuel(\"Octave.\"))"
   ]
  }
 ],
 "metadata": {
  "kernelspec": {
   "display_name": "Python 3",
   "language": "python",
   "name": "python3"
  },
  "language_info": {
   "codemirror_mode": {
    "name": "ipython",
    "version": 3
   },
   "file_extension": ".py",
   "mimetype": "text/x-python",
   "name": "python",
   "nbconvert_exporter": "python",
   "pygments_lexer": "ipython3",
   "version": "3.7.4"
  }
 },
 "nbformat": 4,
 "nbformat_minor": 2
}
